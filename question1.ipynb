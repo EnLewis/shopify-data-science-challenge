# %% [markdown]
# #### Question 1a: *Think about what could be going wrong with our calculation. Think about a better way to evaluate this data*
# 
# Immediately, I think the average of `3145.13` is being skewed by large volume from either a number of very large orders or by one shop that does very high volumes consistently. I would check the standard deviation to confirm this.

# %%
import pandas as pd

all_info    = pd.read_csv("data_sneakers.csv")
volume_info = all_info[['order_amount', 'total_items']]

# Show a general analysis of the order_amount and total_items columns, including percentiles in 10% increments.
volume_info.describe(percentiles=[x/10.0 for x in range(0,10)])

# %% [markdown]
# The describe() outputs shows us the rather extreme standard deviation of `41282.5`. None of the percentiles look too drasticly weighted, so I assume that the anomalous mean is cause by a couple HUGE data points around that max value of `704000`. Let's check a few things to confirm this.

# %%
order_amounts = volume_info['order_amount']

search_threshold = order_amounts.max() - order_amounts.std()
outliers = order_amounts[ order_amounts >= search_threshold]
print(f"{len(outliers)}/{len(order_amounts)} entries found that exceed {search_threshold} in order_amounts.")

# %% [markdown]
# #### Question 1b: *What metric would you report for this dataset?*
# Looks like there a small percentage of outliers skewing our mean. A median should be good enough to give us a quick look at what a good AOV would look like, since only about the 99th percentile of the data is at the upper extreme.

# %%
print(volume_info.median())

# %% [markdown]
# #### Question 1c: *What is its value?*
# A value of `284.0` for our AOV seems appropriate looking at our percentiles from earlier. We could use something like interquartile ranges, or simply trimming maxes and mins to get a more precise middle value for the dataset, but I doubt that would do much here since the outliers make up such a small percentage of the overall dataset.


